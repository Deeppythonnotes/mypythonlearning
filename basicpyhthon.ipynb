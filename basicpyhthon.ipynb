{
 "cells": [
  {
   "cell_type": "code",
   "execution_count": 1,
   "metadata": {},
   "outputs": [
    {
     "name": "stdout",
     "output_type": "stream",
     "text": [
      "hello world\n"
     ]
    }
   ],
   "source": [
    "print(\"hello world\")\n"
   ]
  },
  {
   "cell_type": "code",
   "execution_count": 2,
   "metadata": {},
   "outputs": [
    {
     "name": "stdout",
     "output_type": "stream",
     "text": [
      "(10, 10.5, 'deepika', 'deepika tripathi', 'deepika shukla')\n"
     ]
    }
   ],
   "source": [
    "a= 10\n",
    "b= 10.5\n",
    "c = \"deepika\"\n",
    "d= \"\"\"deepika tripathi\"\"\"\n",
    "f= 'deepika shukla'\n",
    "print(a,b,c,d,f)"
   ]
  },
  {
   "cell_type": "code",
   "execution_count": 3,
   "metadata": {},
   "outputs": [
    {
     "name": "stdout",
     "output_type": "stream",
     "text": [
      "Deepika Shukla\n"
     ]
    }
   ],
   "source": [
    "f= 'deepika shukla'\n",
    "print(f.title())"
   ]
  },
  {
   "cell_type": "code",
   "execution_count": 4,
   "metadata": {},
   "outputs": [
    {
     "name": "stdout",
     "output_type": "stream",
     "text": [
      "DEEPIKA SHUKLA\n"
     ]
    }
   ],
   "source": [
    "f= 'deepika shukla'\n",
    "print(f.upper())"
   ]
  },
  {
   "cell_type": "code",
   "execution_count": 5,
   "metadata": {},
   "outputs": [
    {
     "name": "stdout",
     "output_type": "stream",
     "text": [
      "deepika shukla\n"
     ]
    }
   ],
   "source": [
    "f= 'deepika shukla'\n",
    "print(f.lower())"
   ]
  },
  {
   "cell_type": "code",
   "execution_count": 6,
   "metadata": {},
   "outputs": [
    {
     "name": "stdout",
     "output_type": "stream",
     "text": [
      "   deepika shukla   \n"
     ]
    }
   ],
   "source": [
    "f= 'deepika shukla'\n",
    "print(f.center(20))"
   ]
  },
  {
   "cell_type": "code",
   "execution_count": null,
   "metadata": {},
   "outputs": [],
   "source": [
    "Deepika='name'  # valid Variable name as discussed in the class # _ can we used while declarations the variable name\n",
    "1deepika='name'  # invalid Variabe name # number cann't we used in the starting of the variable name\n",
    "@abc='name'  # invalid Variable name #special Characters are not allowed in the declaration of the varaible name\n"
   ]
  }
 ],
 "metadata": {
  "kernelspec": {
   "display_name": "Python 2",
   "language": "python",
   "name": "python2"
  },
  "language_info": {
   "codemirror_mode": {
    "name": "ipython",
    "version": 2
   },
   "file_extension": ".py",
   "mimetype": "text/x-python",
   "name": "python",
   "nbconvert_exporter": "python",
   "pygments_lexer": "ipython2",
   "version": "2.7.17"
  }
 },
 "nbformat": 4,
 "nbformat_minor": 2
}
